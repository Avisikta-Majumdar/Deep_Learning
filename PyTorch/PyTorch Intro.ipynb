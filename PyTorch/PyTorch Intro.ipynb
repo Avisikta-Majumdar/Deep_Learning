{
 "cells": [
  {
   "cell_type": "code",
   "execution_count": 3,
   "metadata": {
    "id": "ookQMazO_iCV"
   },
   "outputs": [
    {
     "name": "stdout",
     "output_type": "stream",
     "text": [
      "Looking in links: https://download.pytorch.org/whl/torch_stable.html\n",
      "Collecting torch==1.9.0+cpu\n",
      "  Downloading https://download.pytorch.org/whl/cpu/torch-1.9.0%2Bcpu-cp39-cp39-win_amd64.whl (222.0 MB)\n",
      "Collecting torchvision==0.10.0+cpu\n",
      "  Downloading https://download.pytorch.org/whl/cpu/torchvision-0.10.0%2Bcpu-cp39-cp39-win_amd64.whl (914 kB)\n",
      "Collecting torchaudio==0.9.0\n",
      "  Downloading torchaudio-0.9.0-cp39-cp39-win_amd64.whl (215 kB)\n",
      "Collecting typing-extensions\n",
      "  Downloading typing_extensions-3.10.0.0-py3-none-any.whl (26 kB)\n",
      "Collecting numpy\n",
      "  Downloading numpy-1.21.0-cp39-cp39-win_amd64.whl (14.0 MB)\n",
      "Collecting pillow>=5.3.0\n",
      "  Downloading Pillow-8.2.0-cp39-cp39-win_amd64.whl (2.2 MB)\n",
      "Installing collected packages: typing-extensions, torch, pillow, numpy, torchvision, torchaudio\n",
      "Successfully installed numpy-1.21.0 pillow-8.2.0 torch-1.9.0+cpu torchaudio-0.9.0 torchvision-0.10.0+cpu typing-extensions-3.10.0.0\n"
     ]
    }
   ],
   "source": [
    "#Importing PyTorch From https://pytorch.org/ website where PyTorch Build  Stable (1.9.0) OS Linux Package Pip Language Python Compute Platform CPU\n",
    "!pip install torch==1.9.0+cpu torchvision==0.10.0+cpu torchaudio==0.9.0 -f https://download.pytorch.org/whl/torch_stable.html"
   ]
  },
  {
   "cell_type": "code",
   "execution_count": 4,
   "metadata": {
    "id": "dRZ3AaTm_3CG"
   },
   "outputs": [],
   "source": [
    "import torch"
   ]
  },
  {
   "cell_type": "code",
   "execution_count": 5,
   "metadata": {
    "id": "HCqEjqEYBhnW"
   },
   "outputs": [
    {
     "data": {
      "text/plain": [
       "'1.9.0+cpu'"
      ]
     },
     "execution_count": 5,
     "metadata": {},
     "output_type": "execute_result"
    }
   ],
   "source": [
    "torch.__version__"
   ]
  },
  {
   "cell_type": "code",
   "execution_count": null,
   "metadata": {
    "id": "9-S9DP5VBkJ8"
   },
   "outputs": [],
   "source": []
  },
  {
   "cell_type": "markdown",
   "metadata": {
    "id": "jKl5M15zCUMw"
   },
   "source": [
    "<h3>Tensor is same like numpy array or nd-array"
   ]
  },
  {
   "cell_type": "code",
   "execution_count": 6,
   "metadata": {
    "id": "SptxV5cUCZ2i"
   },
   "outputs": [
    {
     "name": "stdout",
     "output_type": "stream",
     "text": [
      "tensor([[1, 2],\n",
      "        [3, 4]])\n"
     ]
    }
   ],
   "source": [
    "a= torch.tensor([[1,2],[3,4]])\n",
    "print(a)"
   ]
  },
  {
   "cell_type": "code",
   "execution_count": 7,
   "metadata": {
    "id": "NkNyzcttCf27"
   },
   "outputs": [
    {
     "data": {
      "text/plain": [
       "torch.Tensor"
      ]
     },
     "execution_count": 7,
     "metadata": {},
     "output_type": "execute_result"
    }
   ],
   "source": [
    "type(a)"
   ]
  },
  {
   "cell_type": "markdown",
   "metadata": {
    "id": "ko7xcBj0CkEv"
   },
   "source": [
    "<h2>In torch we can do the same operations of numpy"
   ]
  },
  {
   "cell_type": "code",
   "execution_count": 8,
   "metadata": {
    "id": "gvGzbv7oChtv"
   },
   "outputs": [],
   "source": [
    "#To make a zero array of row 4 & col 4"
   ]
  },
  {
   "cell_type": "code",
   "execution_count": 9,
   "metadata": {
    "id": "tks_-v8qCxSw"
   },
   "outputs": [
    {
     "name": "stdout",
     "output_type": "stream",
     "text": [
      "tensor([[0., 0., 0., 0.],\n",
      "        [0., 0., 0., 0.],\n",
      "        [0., 0., 0., 0.],\n",
      "        [0., 0., 0., 0.]])\n"
     ]
    }
   ],
   "source": [
    "a_Zero = torch.zeros(4,4)\n",
    "print(a_Zero)"
   ]
  },
  {
   "cell_type": "code",
   "execution_count": 10,
   "metadata": {
    "id": "vfp4ROCDC6Za"
   },
   "outputs": [],
   "source": [
    "#To make a one array of row 4 & col 4"
   ]
  },
  {
   "cell_type": "code",
   "execution_count": 11,
   "metadata": {
    "id": "3PgxOP7NDAsD"
   },
   "outputs": [
    {
     "name": "stdout",
     "output_type": "stream",
     "text": [
      "tensor([[1., 1., 1., 1.],\n",
      "        [1., 1., 1., 1.],\n",
      "        [1., 1., 1., 1.],\n",
      "        [1., 1., 1., 1.]])\n"
     ]
    }
   ],
   "source": [
    "a_One = torch.ones(4,4)\n",
    "print(a_One)"
   ]
  },
  {
   "cell_type": "code",
   "execution_count": 12,
   "metadata": {
    "id": "FnCqL2d1DFUN"
   },
   "outputs": [],
   "source": [
    "#To make an array of random values with row 4 & col 4"
   ]
  },
  {
   "cell_type": "code",
   "execution_count": 13,
   "metadata": {
    "id": "cnxQXdUpDM3m"
   },
   "outputs": [
    {
     "name": "stdout",
     "output_type": "stream",
     "text": [
      "tensor([[0.5696, 0.8716, 0.8238, 0.7100],\n",
      "        [0.2218, 0.6155, 0.3289, 0.7635],\n",
      "        [0.7523, 0.8196, 0.9379, 0.3477],\n",
      "        [0.2635, 0.2365, 0.2519, 0.4531]])\n"
     ]
    }
   ],
   "source": [
    "Ran = torch.rand(4,4)\n",
    "print(Ran)"
   ]
  },
  {
   "cell_type": "code",
   "execution_count": 14,
   "metadata": {
    "id": "yVuDtxYBDSED"
   },
   "outputs": [],
   "source": [
    "#Addition Operation\n",
    "a1 = torch.rand(2 , 2)\n",
    "a2 = torch.rand(2 , 2)"
   ]
  },
  {
   "cell_type": "code",
   "execution_count": 15,
   "metadata": {
    "id": "g6hgCsyxDmo5"
   },
   "outputs": [
    {
     "name": "stdout",
     "output_type": "stream",
     "text": [
      "tensor([[0.1955, 0.8971],\n",
      "        [0.8407, 0.5009]])\n"
     ]
    }
   ],
   "source": [
    "print(a1)"
   ]
  },
  {
   "cell_type": "code",
   "execution_count": 16,
   "metadata": {
    "id": "mNKTHs5zDne3"
   },
   "outputs": [
    {
     "name": "stdout",
     "output_type": "stream",
     "text": [
      "tensor([[0.5283, 0.0977],\n",
      "        [0.5452, 0.7491]])\n"
     ]
    }
   ],
   "source": [
    "print(a2)"
   ]
  },
  {
   "cell_type": "markdown",
   "metadata": {
    "id": "AL-0-uh1DuH5"
   },
   "source": [
    "<h5> Will use 3 method to add a1 with a2"
   ]
  },
  {
   "cell_type": "code",
   "execution_count": 17,
   "metadata": {
    "id": "vJsisbV7DoVf"
   },
   "outputs": [
    {
     "name": "stdout",
     "output_type": "stream",
     "text": [
      "tensor([[0.7237, 0.9948],\n",
      "        [1.3859, 1.2500]])\n"
     ]
    }
   ],
   "source": [
    "print(a1 + a2)"
   ]
  },
  {
   "cell_type": "code",
   "execution_count": 18,
   "metadata": {
    "id": "KkzrMLQ8DqRf"
   },
   "outputs": [
    {
     "name": "stdout",
     "output_type": "stream",
     "text": [
      "tensor([[0.7237, 0.9948],\n",
      "        [1.3859, 1.2500]])\n"
     ]
    }
   ],
   "source": [
    "print(a1.add(a2))"
   ]
  },
  {
   "cell_type": "code",
   "execution_count": 19,
   "metadata": {
    "id": "iRJOPuHiD2Ev"
   },
   "outputs": [
    {
     "data": {
      "text/plain": [
       "tensor([[0.7237, 0.9948],\n",
       "        [1.3859, 1.2500]])"
      ]
     },
     "execution_count": 19,
     "metadata": {},
     "output_type": "execute_result"
    }
   ],
   "source": [
    "#Here a1 will be equals to a1 + a2\n",
    "a1.add_(a2)"
   ]
  },
  {
   "cell_type": "code",
   "execution_count": 20,
   "metadata": {
    "id": "v6l_a_p2D-Kl"
   },
   "outputs": [
    {
     "data": {
      "text/plain": [
       "tensor([[0.7237, 0.9948],\n",
       "        [1.3859, 1.2500]])"
      ]
     },
     "execution_count": 20,
     "metadata": {},
     "output_type": "execute_result"
    }
   ],
   "source": [
    "a1"
   ]
  },
  {
   "cell_type": "code",
   "execution_count": null,
   "metadata": {
    "id": "rYgMPniUD_Fw"
   },
   "outputs": [],
   "source": []
  }
 ],
 "metadata": {
  "colab": {
   "authorship_tag": "ABX9TyPg4767GK7DXdsB/GM507vQ",
   "name": "PyTorch Intro.ipynb",
   "private_outputs": true,
   "provenance": []
  },
  "kernelspec": {
   "display_name": "Python 3",
   "language": "python",
   "name": "python3"
  },
  "language_info": {
   "codemirror_mode": {
    "name": "ipython",
    "version": 3
   },
   "file_extension": ".py",
   "mimetype": "text/x-python",
   "name": "python",
   "nbconvert_exporter": "python",
   "pygments_lexer": "ipython3",
   "version": "3.9.0"
  }
 },
 "nbformat": 4,
 "nbformat_minor": 1
}
