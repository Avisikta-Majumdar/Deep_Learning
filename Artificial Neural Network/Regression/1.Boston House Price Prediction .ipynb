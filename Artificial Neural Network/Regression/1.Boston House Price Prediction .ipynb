{
 "cells": [
  {
   "cell_type": "code",
   "execution_count": 1,
   "id": "797ee197",
   "metadata": {},
   "outputs": [],
   "source": [
    "import numpy as np\n",
    "import pandas as pd\n",
    "from sklearn.model_selection import train_test_split\n",
    "import matplotlib.pyplot as plt"
   ]
  },
  {
   "cell_type": "code",
   "execution_count": 2,
   "id": "9cae2f22",
   "metadata": {},
   "outputs": [],
   "source": [
    "import tensorflow as tf\n",
    "from tensorflow.keras.datasets import boston_housing\n",
    "from sklearn import preprocessing"
   ]
  },
  {
   "cell_type": "code",
   "execution_count": 3,
   "id": "76c956e2",
   "metadata": {},
   "outputs": [],
   "source": [
    "(train_x , train_y) , (test_x , test_y) = boston_housing.load_data()"
   ]
  },
  {
   "cell_type": "code",
   "execution_count": 4,
   "id": "4ae57761",
   "metadata": {},
   "outputs": [
    {
     "name": "stdout",
     "output_type": "stream",
     "text": [
      "Train_x shape:-  (404, 13)\n",
      "Test_x shape:-  (102, 13)\n",
      "Train_y shape:-  (404,)\n",
      "Test_y shape:-  (102,)\n"
     ]
    }
   ],
   "source": [
    "print(\"Train_x shape:- \",train_x.shape)\n",
    "print(\"Test_x shape:- \",test_x.shape)\n",
    "print(\"Train_y shape:- \",train_y.shape)\n",
    "print(\"Test_y shape:- \",test_y.shape)"
   ]
  },
  {
   "cell_type": "code",
   "execution_count": 5,
   "id": "c2fb77cb",
   "metadata": {},
   "outputs": [
    {
     "data": {
      "text/plain": [
       "array([  1.23247,   0.     ,   8.14   ,   0.     ,   0.538  ,   6.142  ,\n",
       "        91.7    ,   3.9769 ,   4.     , 307.     ,  21.     , 396.9    ,\n",
       "        18.72   ])"
      ]
     },
     "execution_count": 5,
     "metadata": {},
     "output_type": "execute_result"
    }
   ],
   "source": [
    "train_x[0]"
   ]
  },
  {
   "cell_type": "code",
   "execution_count": 6,
   "id": "855a6edc",
   "metadata": {},
   "outputs": [
    {
     "data": {
      "text/plain": [
       "array([ 18.0846,   0.    ,  18.1   ,   0.    ,   0.679 ,   6.434 ,\n",
       "       100.    ,   1.8347,  24.    , 666.    ,  20.2   ,  27.25  ,\n",
       "        29.05  ])"
      ]
     },
     "execution_count": 6,
     "metadata": {},
     "output_type": "execute_result"
    }
   ],
   "source": [
    "test_x[0]"
   ]
  },
  {
   "cell_type": "code",
   "execution_count": 7,
   "id": "a3679a6c",
   "metadata": {},
   "outputs": [],
   "source": [
    "train_x = preprocessing.normalize(train_x)\n",
    "test_x = preprocessing.normalize(test_x)"
   ]
  },
  {
   "cell_type": "markdown",
   "id": "e735f961",
   "metadata": {},
   "source": [
    "## ANN Model Building part"
   ]
  },
  {
   "cell_type": "code",
   "execution_count": 8,
   "id": "11f3f79d",
   "metadata": {},
   "outputs": [],
   "source": [
    "# Importing the Keras libraries and packages\n",
    "import keras\n",
    "from keras.models import Sequential\n",
    "from keras.layers import Dense\n",
    "from keras.layers import LeakyReLU,PReLU,ELU\n",
    "from keras.layers import Dropout"
   ]
  },
  {
   "cell_type": "code",
   "execution_count": 9,
   "id": "9f570c38",
   "metadata": {},
   "outputs": [
    {
     "data": {
      "text/plain": [
       "13"
      ]
     },
     "execution_count": 9,
     "metadata": {},
     "output_type": "execute_result"
    }
   ],
   "source": [
    "train_x[0].shape[0]"
   ]
  },
  {
   "cell_type": "code",
   "execution_count": 10,
   "id": "0c488de0",
   "metadata": {},
   "outputs": [],
   "source": [
    "model = Sequential()\n",
    "# Adding the input layer and the first hidden layer\n",
    "#Units means no of neurons and input_dim take the no of features as input\n",
    "model.add(Dense( units= 128,activation='relu',input_dim = train_x[0].shape[0]))# Adding the second hidden layer\n",
    "model.add(Dense(units = 64,activation='relu'))\n",
    "\n",
    "model.add(Dense(units = 32, activation = 'relu'))\n",
    "# Adding the output layer here units value is 1 because we want just 1 output\n",
    "model.add(Dense(1))\n"
   ]
  },
  {
   "cell_type": "code",
   "execution_count": 11,
   "id": "2cac166b",
   "metadata": {},
   "outputs": [],
   "source": [
    "# Compiling the ANN\n",
    "model.compile(optimizer='rmsprop', loss='mse', metrics=['mae'])"
   ]
  },
  {
   "cell_type": "code",
   "execution_count": 12,
   "id": "17876bcf",
   "metadata": {},
   "outputs": [
    {
     "name": "stdout",
     "output_type": "stream",
     "text": [
      "Epoch 1/100\n",
      "404/404 [==============================] - 33s 2ms/step - loss: 250.7356 - mae: 12.0529\n",
      "Epoch 2/100\n",
      "404/404 [==============================] - 1s 2ms/step - loss: 75.2019 - mae: 6.0396\n",
      "Epoch 3/100\n",
      "404/404 [==============================] - 1s 2ms/step - loss: 61.1468 - mae: 5.4877\n",
      "Epoch 4/100\n",
      "404/404 [==============================] - 1s 2ms/step - loss: 63.2360 - mae: 5.4097\n",
      "Epoch 5/100\n",
      "404/404 [==============================] - 1s 2ms/step - loss: 65.7364 - mae: 5.2537\n",
      "Epoch 6/100\n",
      "404/404 [==============================] - 1s 2ms/step - loss: 64.7933 - mae: 5.4539\n",
      "Epoch 7/100\n",
      "404/404 [==============================] - 1s 2ms/step - loss: 58.0144 - mae: 5.1901\n",
      "Epoch 8/100\n",
      "404/404 [==============================] - 1s 2ms/step - loss: 72.2477 - mae: 5.6360TA: 0s - loss: \n",
      "Epoch 9/100\n",
      "404/404 [==============================] - 1s 2ms/step - loss: 47.6033 - mae: 4.7564\n",
      "Epoch 10/100\n",
      "404/404 [==============================] - 1s 2ms/step - loss: 53.1288 - mae: 5.1630\n",
      "Epoch 11/100\n",
      "404/404 [==============================] - 1s 2ms/step - loss: 48.8100 - mae: 4.5059\n",
      "Epoch 12/100\n",
      "404/404 [==============================] - 1s 2ms/step - loss: 44.2438 - mae: 4.5011\n",
      "Epoch 13/100\n",
      "404/404 [==============================] - 1s 2ms/step - loss: 30.9864 - mae: 3.7936\n",
      "Epoch 14/100\n",
      "404/404 [==============================] - 1s 2ms/step - loss: 39.9974 - mae: 4.0964\n",
      "Epoch 15/100\n",
      "404/404 [==============================] - 1s 2ms/step - loss: 49.9674 - mae: 4.7208\n",
      "Epoch 16/100\n",
      "404/404 [==============================] - 1s 2ms/step - loss: 45.2888 - mae: 4.5422\n",
      "Epoch 17/100\n",
      "404/404 [==============================] - 1s 2ms/step - loss: 42.0652 - mae: 4.5034\n",
      "Epoch 18/100\n",
      "404/404 [==============================] - 1s 2ms/step - loss: 31.4613 - mae: 4.0327\n",
      "Epoch 19/100\n",
      "404/404 [==============================] - 1s 2ms/step - loss: 37.5212 - mae: 4.2643\n",
      "Epoch 20/100\n",
      "404/404 [==============================] - 1s 2ms/step - loss: 34.6830 - mae: 4.1642\n",
      "Epoch 21/100\n",
      "404/404 [==============================] - 1s 2ms/step - loss: 40.9566 - mae: 4.4944\n",
      "Epoch 22/100\n",
      "404/404 [==============================] - 1s 1ms/step - loss: 30.1437 - mae: 3.9210: 0s - loss: 1\n",
      "Epoch 23/100\n",
      "404/404 [==============================] - 1s 1ms/step - loss: 33.1735 - mae: 4.0506\n",
      "Epoch 24/100\n",
      "404/404 [==============================] - 1s 1ms/step - loss: 28.2558 - mae: 3.8238\n",
      "Epoch 25/100\n",
      "404/404 [==============================] - 1s 2ms/step - loss: 29.7821 - mae: 4.0043\n",
      "Epoch 26/100\n",
      "404/404 [==============================] - 1s 2ms/step - loss: 32.4375 - mae: 3.9097\n",
      "Epoch 27/100\n",
      "404/404 [==============================] - 1s 2ms/step - loss: 26.9643 - mae: 3.5342\n",
      "Epoch 28/100\n",
      "404/404 [==============================] - 1s 2ms/step - loss: 30.8445 - mae: 3.8682\n",
      "Epoch 29/100\n",
      "404/404 [==============================] - 1s 2ms/step - loss: 31.4819 - mae: 3.8453\n",
      "Epoch 30/100\n",
      "404/404 [==============================] - 1s 2ms/step - loss: 25.6021 - mae: 3.6152\n",
      "Epoch 31/100\n",
      "404/404 [==============================] - 1s 2ms/step - loss: 34.4736 - mae: 4.0794\n",
      "Epoch 32/100\n",
      "404/404 [==============================] - 1s 2ms/step - loss: 21.7157 - mae: 3.3689\n",
      "Epoch 33/100\n",
      "404/404 [==============================] - 1s 2ms/step - loss: 26.0405 - mae: 3.6660\n",
      "Epoch 34/100\n",
      "404/404 [==============================] - 1s 2ms/step - loss: 25.9195 - mae: 3.7183\n",
      "Epoch 35/100\n",
      "404/404 [==============================] - 1s 2ms/step - loss: 23.6187 - mae: 3.5705\n",
      "Epoch 36/100\n",
      "404/404 [==============================] - 1s 2ms/step - loss: 25.0156 - mae: 3.5971\n",
      "Epoch 37/100\n",
      "404/404 [==============================] - 1s 2ms/step - loss: 22.3819 - mae: 3.4219\n",
      "Epoch 38/100\n",
      "404/404 [==============================] - 1s 2ms/step - loss: 20.7486 - mae: 3.3994: 0s - loss: 1\n",
      "Epoch 39/100\n",
      "404/404 [==============================] - 1s 2ms/step - loss: 18.7257 - mae: 3.0556\n",
      "Epoch 40/100\n",
      "404/404 [==============================] - 1s 2ms/step - loss: 24.8361 - mae: 3.3237\n",
      "Epoch 41/100\n",
      "404/404 [==============================] - 1s 2ms/step - loss: 20.1642 - mae: 3.1767\n",
      "Epoch 42/100\n",
      "404/404 [==============================] - 1s 2ms/step - loss: 19.9163 - mae: 3.3771\n",
      "Epoch 43/100\n",
      "404/404 [==============================] - 1s 2ms/step - loss: 19.1332 - mae: 3.1320: 0s - loss: 17.9800 -\n",
      "Epoch 44/100\n",
      "404/404 [==============================] - 1s 2ms/step - loss: 19.8882 - mae: 3.0528\n",
      "Epoch 45/100\n",
      "404/404 [==============================] - 1s 2ms/step - loss: 19.9169 - mae: 3.1825\n",
      "Epoch 46/100\n",
      "404/404 [==============================] - 1s 2ms/step - loss: 24.2218 - mae: 3.5276\n",
      "Epoch 47/100\n",
      "404/404 [==============================] - 1s 1ms/step - loss: 20.6056 - mae: 3.2481\n",
      "Epoch 48/100\n",
      "404/404 [==============================] - 1s 1ms/step - loss: 17.9795 - mae: 3.0055\n",
      "Epoch 49/100\n",
      "404/404 [==============================] - 1s 1ms/step - loss: 20.5785 - mae: 3.2037\n",
      "Epoch 50/100\n",
      "404/404 [==============================] - 1s 2ms/step - loss: 21.1390 - mae: 3.2616\n",
      "Epoch 51/100\n",
      "404/404 [==============================] - 1s 2ms/step - loss: 19.3763 - mae: 3.0917\n",
      "Epoch 52/100\n",
      "404/404 [==============================] - 1s 2ms/step - loss: 18.6851 - mae: 3.1512\n",
      "Epoch 53/100\n",
      "404/404 [==============================] - 1s 2ms/step - loss: 25.1439 - mae: 3.4296\n",
      "Epoch 54/100\n",
      "404/404 [==============================] - ETA: 0s - loss: 20.0904 - mae: 3.18 - 1s 1ms/step - loss: 20.0598 - mae: 3.1856\n",
      "Epoch 55/100\n",
      "404/404 [==============================] - 1s 2ms/step - loss: 16.9367 - mae: 3.0503\n",
      "Epoch 56/100\n",
      "404/404 [==============================] - 1s 2ms/step - loss: 17.5577 - mae: 2.9505: 0s - loss: 1\n",
      "Epoch 57/100\n",
      "404/404 [==============================] - 1s 2ms/step - loss: 16.4652 - mae: 2.8819\n",
      "Epoch 58/100\n",
      "404/404 [==============================] - 1s 2ms/step - loss: 15.1012 - mae: 2.8827\n",
      "Epoch 59/100\n",
      "404/404 [==============================] - 1s 2ms/step - loss: 17.4551 - mae: 2.9057\n",
      "Epoch 60/100\n",
      "404/404 [==============================] - 1s 2ms/step - loss: 19.1454 - mae: 3.1696\n",
      "Epoch 61/100\n",
      "404/404 [==============================] - 1s 2ms/step - loss: 19.2374 - mae: 3.0668\n",
      "Epoch 62/100\n",
      "404/404 [==============================] - 1s 2ms/step - loss: 13.8881 - mae: 2.7242\n",
      "Epoch 63/100\n",
      "404/404 [==============================] - 1s 2ms/step - loss: 19.6339 - mae: 3.1719: 0s - loss: 19.9614 - mae:  - ETA: 0s - loss: 19.7704 - mae: 3.\n",
      "Epoch 64/100\n",
      "404/404 [==============================] - 1s 2ms/step - loss: 18.6143 - mae: 3.2474\n",
      "Epoch 65/100\n",
      "404/404 [==============================] - 1s 2ms/step - loss: 17.9306 - mae: 2.8451\n",
      "Epoch 66/100\n",
      "404/404 [==============================] - 1s 2ms/step - loss: 18.1753 - mae: 2.8434\n",
      "Epoch 67/100\n",
      "404/404 [==============================] - 1s 2ms/step - loss: 15.0233 - mae: 2.8167\n",
      "Epoch 68/100\n",
      "404/404 [==============================] - 1s 2ms/step - loss: 18.8143 - mae: 3.0566\n",
      "Epoch 69/100\n",
      "404/404 [==============================] - 1s 2ms/step - loss: 17.6830 - mae: 3.0787\n",
      "Epoch 70/100\n",
      "404/404 [==============================] - 1s 2ms/step - loss: 15.9186 - mae: 2.9821\n",
      "Epoch 71/100\n",
      "404/404 [==============================] - 1s 2ms/step - loss: 14.4274 - mae: 2.7289\n",
      "Epoch 72/100\n",
      "404/404 [==============================] - 1s 2ms/step - loss: 16.0970 - mae: 2.9349\n",
      "Epoch 73/100\n",
      "404/404 [==============================] - 1s 1ms/step - loss: 17.9841 - mae: 3.0636\n",
      "Epoch 74/100\n",
      "404/404 [==============================] - 1s 1ms/step - loss: 19.1141 - mae: 3.0631: 0s - loss: 19.2394 - mae: 3.\n",
      "Epoch 75/100\n",
      "404/404 [==============================] - 1s 2ms/step - loss: 14.6769 - mae: 2.7175\n",
      "Epoch 76/100\n",
      "404/404 [==============================] - 1s 2ms/step - loss: 16.4210 - mae: 2.9507\n",
      "Epoch 77/100\n",
      "404/404 [==============================] - 1s 2ms/step - loss: 21.2971 - mae: 3.3508\n",
      "Epoch 78/100\n",
      "404/404 [==============================] - 1s 2ms/step - loss: 19.8933 - mae: 2.9935\n",
      "Epoch 79/100\n",
      "404/404 [==============================] - 1s 2ms/step - loss: 18.1506 - mae: 2.9637\n",
      "Epoch 80/100\n",
      "404/404 [==============================] - 1s 2ms/step - loss: 15.4031 - mae: 2.8177\n",
      "Epoch 81/100\n",
      "404/404 [==============================] - 1s 2ms/step - loss: 17.9277 - mae: 2.9748\n",
      "Epoch 82/100\n"
     ]
    },
    {
     "name": "stdout",
     "output_type": "stream",
     "text": [
      "404/404 [==============================] - 1s 2ms/step - loss: 20.6980 - mae: 3.1585\n",
      "Epoch 83/100\n",
      "404/404 [==============================] - 1s 2ms/step - loss: 12.7720 - mae: 2.6173\n",
      "Epoch 84/100\n",
      "404/404 [==============================] - 1s 2ms/step - loss: 18.9143 - mae: 2.8370\n",
      "Epoch 85/100\n",
      "404/404 [==============================] - 1s 2ms/step - loss: 13.9580 - mae: 2.7531\n",
      "Epoch 86/100\n",
      "404/404 [==============================] - 1s 2ms/step - loss: 17.2780 - mae: 2.9881\n",
      "Epoch 87/100\n",
      "404/404 [==============================] - 1s 2ms/step - loss: 15.3524 - mae: 2.9512\n",
      "Epoch 88/100\n",
      "404/404 [==============================] - 1s 2ms/step - loss: 13.4562 - mae: 2.6657\n",
      "Epoch 89/100\n",
      "404/404 [==============================] - 1s 2ms/step - loss: 19.8794 - mae: 3.2074\n",
      "Epoch 90/100\n",
      "404/404 [==============================] - 1s 2ms/step - loss: 21.0006 - mae: 3.0678\n",
      "Epoch 91/100\n",
      "404/404 [==============================] - 1s 2ms/step - loss: 19.0871 - mae: 3.1372\n",
      "Epoch 92/100\n",
      "404/404 [==============================] - 1s 2ms/step - loss: 14.7156 - mae: 2.7015\n",
      "Epoch 93/100\n",
      "404/404 [==============================] - 1s 2ms/step - loss: 15.2125 - mae: 2.7064\n",
      "Epoch 94/100\n",
      "404/404 [==============================] - 1s 2ms/step - loss: 19.4889 - mae: 3.1938\n",
      "Epoch 95/100\n",
      "404/404 [==============================] - 1s 2ms/step - loss: 14.7735 - mae: 2.6386\n",
      "Epoch 96/100\n",
      "404/404 [==============================] - 1s 2ms/step - loss: 16.3154 - mae: 2.9389\n",
      "Epoch 97/100\n",
      "404/404 [==============================] - 1s 2ms/step - loss: 15.9840 - mae: 2.8127\n",
      "Epoch 98/100\n",
      "404/404 [==============================] - 1s 1ms/step - loss: 15.0600 - mae: 2.9188\n",
      "Epoch 99/100\n",
      "404/404 [==============================] - 1s 1ms/step - loss: 14.7091 - mae: 2.8762\n",
      "Epoch 100/100\n",
      "404/404 [==============================] - 1s 1ms/step - loss: 16.1258 - mae: 2.7974\n"
     ]
    }
   ],
   "source": [
    "model_history = model.fit(x = train_x , y = train_y , epochs = 100 , batch_size = 1 , verbose=1)"
   ]
  },
  {
   "cell_type": "code",
   "execution_count": 13,
   "id": "049e7301",
   "metadata": {},
   "outputs": [
    {
     "data": {
      "text/plain": [
       "array([0.02675675, 0.        , 0.02677953, 0.        , 0.0010046 ,\n",
       "       0.00951931, 0.14795322, 0.0027145 , 0.03550877, 0.98536841,\n",
       "       0.02988655, 0.04031725, 0.04298041])"
      ]
     },
     "execution_count": 13,
     "metadata": {},
     "output_type": "execute_result"
    }
   ],
   "source": [
    "test_x[0]"
   ]
  },
  {
   "cell_type": "code",
   "execution_count": 14,
   "id": "222aa72d",
   "metadata": {},
   "outputs": [
    {
     "data": {
      "text/plain": [
       "7.2"
      ]
     },
     "execution_count": 14,
     "metadata": {},
     "output_type": "execute_result"
    }
   ],
   "source": [
    "test_y[0]"
   ]
  },
  {
   "cell_type": "code",
   "execution_count": 15,
   "id": "544603c5",
   "metadata": {},
   "outputs": [
    {
     "name": "stdout",
     "output_type": "stream",
     "text": [
      "Actual Output:- 7.2\n",
      "Predicted Output:-  8.771737\n"
     ]
    }
   ],
   "source": [
    "test_input = [[0.02675675, 0., 0.02677953, 0. , 0.0010046 ,0.00951931, 0.14795322, 0.0027145 , 0.03550877, 0.98536841,0.02988655, 0.04031725, 0.04298041]]\n",
    "print(\"Actual Output:- 7.2\")\n",
    "print(\"Predicted Output:- \",model.predict(test_input)[0][0])"
   ]
  },
  {
   "cell_type": "code",
   "execution_count": 16,
   "id": "10639fd6",
   "metadata": {},
   "outputs": [
    {
     "name": "stdout",
     "output_type": "stream",
     "text": [
      "dict_keys(['loss', 'mae'])\n"
     ]
    }
   ],
   "source": [
    "print(model_history.history.keys())"
   ]
  },
  {
   "cell_type": "code",
   "execution_count": 17,
   "id": "5c96b33e",
   "metadata": {},
   "outputs": [
    {
     "name": "stdout",
     "output_type": "stream",
     "text": [
      "dict_keys(['loss', 'mae'])\n"
     ]
    },
    {
     "data": {
      "image/png": "[encoded data removed]",
      "text/plain": [
       "<Figure size 432x288 with 1 Axes>"
      ]
     },
     "metadata": {
      "needs_background": "light"
     },
     "output_type": "display_data"
    }
   ],
   "source": [
    "# list all data in history\n",
    "\n",
    "print(model_history.history.keys())\n",
    "# summarize history for mse\n",
    "plt.plot(model_history.history['mae'])\n",
    "#plt.plot(np.array())\n",
    "plt.title('model mse',fontsize=30)\n",
    "plt.ylabel('mse',fontsize=20)\n",
    "plt.xlabel('Epoch',fontsize=20)\n",
    "plt.legend(['train'], loc='upper left')\n",
    "plt.show()"
   ]
  },
  {
   "cell_type": "code",
   "execution_count": 18,
   "id": "4b844ac7",
   "metadata": {},
   "outputs": [
    {
     "data": {
      "image/png": "[encoded data removed]",
      "text/plain": [
       "<Figure size 432x288 with 1 Axes>"
      ]
     },
     "metadata": {
      "needs_background": "light"
     },
     "output_type": "display_data"
    }
   ],
   "source": [
    "# summarize history for loss\n",
    "plt.plot(model_history.history['loss'])\n",
    "plt.title('model loss',fontsize=30)\n",
    "plt.ylabel('loss',fontsize=20)\n",
    "plt.xlabel('epoch',fontsize=20)\n",
    "plt.legend(['train'], loc='upper left')\n",
    "plt.show()\n"
   ]
  },
  {
   "cell_type": "code",
   "execution_count": null,
   "id": "285e33c1",
   "metadata": {},
   "outputs": [],
   "source": []
  }
 ],
 "metadata": {
  "kernelspec": {
   "display_name": "Python 3",
   "language": "python",
   "name": "python3"
  },
  "language_info": {
   "codemirror_mode": {
    "name": "ipython",
    "version": 3
   },
   "file_extension": ".py",
   "mimetype": "text/x-python",
   "name": "python",
   "nbconvert_exporter": "python",
   "pygments_lexer": "ipython3",
   "version": "3.6.13"
  }
 },
 "nbformat": 4,
 "nbformat_minor": 5
}
