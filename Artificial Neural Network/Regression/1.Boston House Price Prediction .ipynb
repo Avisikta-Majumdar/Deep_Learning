{
 "cells": [
  {
   "cell_type": "code",
   "execution_count": 26,
   "id": "797ee197",
   "metadata": {},
   "outputs": [],
   "source": [
    "import numpy as np\n",
    "import pandas as pd\n",
    "from sklearn.model_selection import train_test_split\n",
    "import matplotlib.pyplot as plt"
   ]
  },
  {
   "cell_type": "code",
   "execution_count": 27,
   "id": "9cae2f22",
   "metadata": {},
   "outputs": [],
   "source": [
    "import tensorflow as tf\n",
    "from tensorflow.keras.datasets import boston_housing\n",
    "from sklearn import preprocessing"
   ]
  },
  {
   "cell_type": "code",
   "execution_count": 28,
   "id": "76c956e2",
   "metadata": {},
   "outputs": [],
   "source": [
    "(train_x , train_y) , (test_x , test_y) = boston_housing.load_data()"
   ]
  },
  {
   "cell_type": "code",
   "execution_count": 29,
   "id": "4ae57761",
   "metadata": {},
   "outputs": [
    {
     "name": "stdout",
     "output_type": "stream",
     "text": [
      "Train_x shape:-  (404, 13)\n",
      "Test_x shape:-  (102, 13)\n",
      "Train_y shape:-  (404,)\n",
      "Test_y shape:-  (102,)\n"
     ]
    }
   ],
   "source": [
    "print(\"Train_x shape:- \",train_x.shape)\n",
    "print(\"Test_x shape:- \",test_x.shape)\n",
    "print(\"Train_y shape:- \",train_y.shape)\n",
    "print(\"Test_y shape:- \",test_y.shape)"
   ]
  },
  {
   "cell_type": "code",
   "execution_count": 30,
   "id": "c2fb77cb",
   "metadata": {},
   "outputs": [
    {
     "data": {
      "text/plain": [
       "array([  1.23247,   0.     ,   8.14   ,   0.     ,   0.538  ,   6.142  ,\n",
       "        91.7    ,   3.9769 ,   4.     , 307.     ,  21.     , 396.9    ,\n",
       "        18.72   ])"
      ]
     },
     "execution_count": 30,
     "metadata": {},
     "output_type": "execute_result"
    }
   ],
   "source": [
    "train_x[0]"
   ]
  },
  {
   "cell_type": "code",
   "execution_count": 31,
   "id": "855a6edc",
   "metadata": {},
   "outputs": [
    {
     "data": {
      "text/plain": [
       "array([ 18.0846,   0.    ,  18.1   ,   0.    ,   0.679 ,   6.434 ,\n",
       "       100.    ,   1.8347,  24.    , 666.    ,  20.2   ,  27.25  ,\n",
       "        29.05  ])"
      ]
     },
     "execution_count": 31,
     "metadata": {},
     "output_type": "execute_result"
    }
   ],
   "source": [
    "test_x[0]"
   ]
  },
  {
   "cell_type": "code",
   "execution_count": 32,
   "id": "a3679a6c",
   "metadata": {},
   "outputs": [],
   "source": [
    "train_x = preprocessing.normalize(train_x)\n",
    "test_x = preprocessing.normalize(test_x)"
   ]
  },
  {
   "cell_type": "markdown",
   "id": "e735f961",
   "metadata": {},
   "source": [
    "## ANN Model Building part"
   ]
  },
  {
   "cell_type": "code",
   "execution_count": 33,
   "id": "11f3f79d",
   "metadata": {},
   "outputs": [],
   "source": [
    "# Importing the Keras libraries and packages\n",
    "import keras\n",
    "from keras.models import Sequential\n",
    "from keras.layers import Dense\n",
    "from keras.layers import LeakyReLU,PReLU,ELU\n",
    "from keras.layers import Dropout"
   ]
  },
  {
   "cell_type": "code",
   "execution_count": 34,
   "id": "9f570c38",
   "metadata": {},
   "outputs": [
    {
     "data": {
      "text/plain": [
       "13"
      ]
     },
     "execution_count": 34,
     "metadata": {},
     "output_type": "execute_result"
    }
   ],
   "source": [
    "train_x[0].shape[0]"
   ]
  },
  {
   "cell_type": "code",
   "execution_count": 35,
   "id": "0c488de0",
   "metadata": {},
   "outputs": [],
   "source": [
    "model = Sequential()\n",
    "# Adding the input layer and the first hidden layer\n",
    "#Units means no of neurons and input_dim take the no of features as input\n",
    "model.add(Dense( units= 128,activation='relu',input_dim = train_x[0].shape[0]))# Adding the second hidden layer\n",
    "model.add(Dense(units = 64,activation='relu'))\n",
    "\n",
    "model.add(Dense(units = 32, activation = 'relu'))\n",
    "# Adding the output layer here units value is 1 because we want just 1 output\n",
    "model.add(Dense(1))\n"
   ]
  },
  {
   "cell_type": "code",
   "execution_count": 36,
   "id": "2cac166b",
   "metadata": {},
   "outputs": [],
   "source": [
    "# Compiling the ANN\n",
    "model.compile(optimizer='rmsprop', loss='mse', metrics=['mae'])"
   ]
  },
  {
   "cell_type": "code",
   "execution_count": 37,
   "id": "17876bcf",
   "metadata": {},
   "outputs": [
    {
     "name": "stdout",
     "output_type": "stream",
     "text": [
      "Epoch 1/100\n",
      "404/404 [==============================] - 3s 2ms/step - loss: 312.8600 - mae: 13.7472\n",
      "Epoch 2/100\n",
      "404/404 [==============================] - 1s 2ms/step - loss: 71.3062 - mae: 5.8795\n",
      "Epoch 3/100\n",
      "404/404 [==============================] - 1s 2ms/step - loss: 79.6396 - mae: 6.3995\n",
      "Epoch 4/100\n",
      "404/404 [==============================] - 1s 2ms/step - loss: 69.2251 - mae: 5.5131\n",
      "Epoch 5/100\n",
      "404/404 [==============================] - 1s 2ms/step - loss: 55.3568 - mae: 5.0867\n",
      "Epoch 6/100\n",
      "404/404 [==============================] - 1s 2ms/step - loss: 61.2228 - mae: 5.4091\n",
      "Epoch 7/100\n",
      "404/404 [==============================] - 1s 2ms/step - loss: 58.6810 - mae: 5.3126\n",
      "Epoch 8/100\n",
      "404/404 [==============================] - 1s 2ms/step - loss: 60.1012 - mae: 5.2021\n",
      "Epoch 9/100\n",
      "404/404 [==============================] - 1s 2ms/step - loss: 55.7586 - mae: 5.0862\n",
      "Epoch 10/100\n",
      "404/404 [==============================] - 1s 2ms/step - loss: 61.0907 - mae: 5.4095\n",
      "Epoch 11/100\n",
      "404/404 [==============================] - 1s 2ms/step - loss: 42.4136 - mae: 4.5731\n",
      "Epoch 12/100\n",
      "404/404 [==============================] - 1s 2ms/step - loss: 49.6255 - mae: 4.8753\n",
      "Epoch 13/100\n",
      "404/404 [==============================] - 1s 2ms/step - loss: 57.5117 - mae: 4.9465\n",
      "Epoch 14/100\n",
      "404/404 [==============================] - 1s 2ms/step - loss: 44.1055 - mae: 4.4109\n",
      "Epoch 15/100\n",
      "404/404 [==============================] - 1s 2ms/step - loss: 40.9372 - mae: 4.5538\n",
      "Epoch 16/100\n",
      "404/404 [==============================] - 1s 1ms/step - loss: 39.2879 - mae: 4.3527\n",
      "Epoch 17/100\n",
      "404/404 [==============================] - 1s 1ms/step - loss: 41.7745 - mae: 4.4359\n",
      "Epoch 18/100\n",
      "404/404 [==============================] - 1s 2ms/step - loss: 43.3880 - mae: 4.5171\n",
      "Epoch 19/100\n",
      "404/404 [==============================] - 1s 2ms/step - loss: 44.3667 - mae: 4.5343\n",
      "Epoch 20/100\n",
      "404/404 [==============================] - 1s 2ms/step - loss: 35.0631 - mae: 4.1133\n",
      "Epoch 21/100\n",
      "404/404 [==============================] - 1s 2ms/step - loss: 44.3818 - mae: 4.5142\n",
      "Epoch 22/100\n",
      "404/404 [==============================] - 1s 2ms/step - loss: 49.6918 - mae: 4.7818\n",
      "Epoch 23/100\n",
      "404/404 [==============================] - 1s 2ms/step - loss: 32.5546 - mae: 3.9642\n",
      "Epoch 24/100\n",
      "404/404 [==============================] - 1s 2ms/step - loss: 35.3950 - mae: 3.9150\n",
      "Epoch 25/100\n",
      "404/404 [==============================] - 1s 2ms/step - loss: 32.0081 - mae: 3.9261\n",
      "Epoch 26/100\n",
      "404/404 [==============================] - 1s 2ms/step - loss: 39.3925 - mae: 4.3858\n",
      "Epoch 27/100\n",
      "404/404 [==============================] - 1s 2ms/step - loss: 27.1961 - mae: 3.6645\n",
      "Epoch 28/100\n",
      "404/404 [==============================] - 1s 2ms/step - loss: 33.4045 - mae: 4.0996\n",
      "Epoch 29/100\n",
      "404/404 [==============================] - 1s 2ms/step - loss: 34.3656 - mae: 4.2586\n",
      "Epoch 30/100\n",
      "404/404 [==============================] - 1s 2ms/step - loss: 30.3942 - mae: 4.0917\n",
      "Epoch 31/100\n",
      "404/404 [==============================] - 1s 2ms/step - loss: 26.9194 - mae: 3.7358\n",
      "Epoch 32/100\n",
      "404/404 [==============================] - 1s 2ms/step - loss: 21.9606 - mae: 3.4180\n",
      "Epoch 33/100\n",
      "404/404 [==============================] - 1s 2ms/step - loss: 29.3802 - mae: 3.7419\n",
      "Epoch 34/100\n",
      "404/404 [==============================] - 1s 2ms/step - loss: 21.9315 - mae: 3.2837\n",
      "Epoch 35/100\n",
      "404/404 [==============================] - 1s 2ms/step - loss: 25.8615 - mae: 3.5710\n",
      "Epoch 36/100\n",
      "404/404 [==============================] - 1s 2ms/step - loss: 25.9138 - mae: 3.6106\n",
      "Epoch 37/100\n",
      "404/404 [==============================] - 1s 2ms/step - loss: 26.8965 - mae: 3.6866\n",
      "Epoch 38/100\n",
      "404/404 [==============================] - 1s 2ms/step - loss: 30.0944 - mae: 3.7966\n",
      "Epoch 39/100\n",
      "404/404 [==============================] - 1s 2ms/step - loss: 26.4691 - mae: 3.7203\n",
      "Epoch 40/100\n",
      "404/404 [==============================] - 1s 2ms/step - loss: 17.9472 - mae: 2.9631\n",
      "Epoch 41/100\n",
      "404/404 [==============================] - 1s 1ms/step - loss: 22.6027 - mae: 3.4687\n",
      "Epoch 42/100\n",
      "404/404 [==============================] - 1s 1ms/step - loss: 19.2975 - mae: 3.2734\n",
      "Epoch 43/100\n",
      "404/404 [==============================] - 1s 2ms/step - loss: 23.3122 - mae: 3.4662\n",
      "Epoch 44/100\n",
      "404/404 [==============================] - 1s 2ms/step - loss: 24.2189 - mae: 3.6043\n",
      "Epoch 45/100\n",
      "404/404 [==============================] - 1s 2ms/step - loss: 18.3109 - mae: 3.1197\n",
      "Epoch 46/100\n",
      "404/404 [==============================] - 1s 2ms/step - loss: 18.9424 - mae: 3.2037\n",
      "Epoch 47/100\n",
      "404/404 [==============================] - 1s 2ms/step - loss: 16.0875 - mae: 2.9403\n",
      "Epoch 48/100\n",
      "404/404 [==============================] - 1s 2ms/step - loss: 18.9471 - mae: 3.2041\n",
      "Epoch 49/100\n",
      "404/404 [==============================] - 1s 2ms/step - loss: 16.4708 - mae: 2.9930\n",
      "Epoch 50/100\n",
      "404/404 [==============================] - 1s 2ms/step - loss: 18.3017 - mae: 3.1532\n",
      "Epoch 51/100\n",
      "404/404 [==============================] - 1s 2ms/step - loss: 16.3503 - mae: 2.9882\n",
      "Epoch 52/100\n",
      "404/404 [==============================] - 1s 2ms/step - loss: 18.5806 - mae: 3.1632\n",
      "Epoch 53/100\n",
      "404/404 [==============================] - 1s 2ms/step - loss: 20.9505 - mae: 3.2262\n",
      "Epoch 54/100\n",
      "404/404 [==============================] - 1s 2ms/step - loss: 18.1551 - mae: 3.0007\n",
      "Epoch 55/100\n",
      "404/404 [==============================] - 1s 2ms/step - loss: 18.9607 - mae: 3.0926\n",
      "Epoch 56/100\n",
      "404/404 [==============================] - 1s 2ms/step - loss: 18.1654 - mae: 3.0868\n",
      "Epoch 57/100\n",
      "404/404 [==============================] - 1s 2ms/step - loss: 20.2313 - mae: 3.2556\n",
      "Epoch 58/100\n",
      "404/404 [==============================] - 1s 2ms/step - loss: 16.0755 - mae: 2.9612\n",
      "Epoch 59/100\n",
      "404/404 [==============================] - 1s 2ms/step - loss: 18.8416 - mae: 3.2382\n",
      "Epoch 60/100\n",
      "404/404 [==============================] - 1s 2ms/step - loss: 21.4343 - mae: 3.2734\n",
      "Epoch 61/100\n",
      "404/404 [==============================] - 1s 2ms/step - loss: 18.3927 - mae: 2.8169\n",
      "Epoch 62/100\n",
      "404/404 [==============================] - 1s 2ms/step - loss: 17.0383 - mae: 2.9405\n",
      "Epoch 63/100\n",
      "404/404 [==============================] - 1s 2ms/step - loss: 18.4695 - mae: 3.1608\n",
      "Epoch 64/100\n",
      "404/404 [==============================] - 1s 2ms/step - loss: 15.4215 - mae: 2.8202\n",
      "Epoch 65/100\n",
      "404/404 [==============================] - 1s 2ms/step - loss: 21.0697 - mae: 3.1973\n",
      "Epoch 66/100\n",
      "404/404 [==============================] - 1s 1ms/step - loss: 15.9451 - mae: 3.0011\n",
      "Epoch 67/100\n",
      "404/404 [==============================] - 1s 1ms/step - loss: 22.2155 - mae: 3.3205\n",
      "Epoch 68/100\n",
      "404/404 [==============================] - 1s 1ms/step - loss: 15.9463 - mae: 2.8964\n",
      "Epoch 69/100\n",
      "404/404 [==============================] - 1s 2ms/step - loss: 18.2862 - mae: 2.9379\n",
      "Epoch 70/100\n",
      "404/404 [==============================] - 1s 2ms/step - loss: 17.2153 - mae: 3.1190\n",
      "Epoch 71/100\n",
      "404/404 [==============================] - 1s 2ms/step - loss: 19.8435 - mae: 2.8934\n",
      "Epoch 72/100\n",
      "404/404 [==============================] - 1s 2ms/step - loss: 16.5601 - mae: 2.9430\n",
      "Epoch 73/100\n",
      "404/404 [==============================] - 1s 2ms/step - loss: 16.0588 - mae: 3.0648\n",
      "Epoch 74/100\n",
      "404/404 [==============================] - 1s 2ms/step - loss: 16.2733 - mae: 2.8728\n",
      "Epoch 75/100\n",
      "404/404 [==============================] - 1s 2ms/step - loss: 16.7731 - mae: 2.9855\n",
      "Epoch 76/100\n",
      "404/404 [==============================] - 1s 2ms/step - loss: 18.7909 - mae: 3.0630\n",
      "Epoch 77/100\n",
      "404/404 [==============================] - 1s 2ms/step - loss: 18.7701 - mae: 2.9946\n",
      "Epoch 78/100\n",
      "404/404 [==============================] - 1s 2ms/step - loss: 15.0556 - mae: 2.8606\n",
      "Epoch 79/100\n",
      "404/404 [==============================] - 1s 2ms/step - loss: 17.2476 - mae: 3.0145\n",
      "Epoch 80/100\n",
      "404/404 [==============================] - 1s 2ms/step - loss: 17.9618 - mae: 3.0497\n",
      "Epoch 81/100\n",
      "404/404 [==============================] - 1s 2ms/step - loss: 16.3655 - mae: 2.9510\n",
      "Epoch 82/100\n",
      "404/404 [==============================] - 1s 2ms/step - loss: 18.1726 - mae: 2.8930\n",
      "Epoch 83/100\n",
      "404/404 [==============================] - 1s 2ms/step - loss: 14.5826 - mae: 2.7881\n",
      "Epoch 84/100\n"
     ]
    },
    {
     "name": "stdout",
     "output_type": "stream",
     "text": [
      "404/404 [==============================] - 1s 2ms/step - loss: 19.1082 - mae: 3.0946\n",
      "Epoch 85/100\n",
      "404/404 [==============================] - 1s 2ms/step - loss: 22.1660 - mae: 3.0564\n",
      "Epoch 86/100\n",
      "404/404 [==============================] - 1s 2ms/step - loss: 16.1587 - mae: 2.8062\n",
      "Epoch 87/100\n",
      "404/404 [==============================] - 1s 2ms/step - loss: 18.9503 - mae: 2.9846\n",
      "Epoch 88/100\n",
      "404/404 [==============================] - 1s 2ms/step - loss: 18.3931 - mae: 3.1401\n",
      "Epoch 89/100\n",
      "404/404 [==============================] - 1s 2ms/step - loss: 16.0662 - mae: 2.9756\n",
      "Epoch 90/100\n",
      "404/404 [==============================] - 1s 2ms/step - loss: 15.0757 - mae: 2.8454\n",
      "Epoch 91/100\n",
      "404/404 [==============================] - 1s 2ms/step - loss: 18.8402 - mae: 3.0501\n",
      "Epoch 92/100\n",
      "404/404 [==============================] - 1s 1ms/step - loss: 20.2044 - mae: 3.0326\n",
      "Epoch 93/100\n",
      "404/404 [==============================] - 1s 1ms/step - loss: 17.1606 - mae: 3.1039\n",
      "Epoch 94/100\n",
      "404/404 [==============================] - 1s 2ms/step - loss: 13.7842 - mae: 2.7615\n",
      "Epoch 95/100\n",
      "404/404 [==============================] - 1s 2ms/step - loss: 15.5819 - mae: 2.8663\n",
      "Epoch 96/100\n",
      "404/404 [==============================] - 1s 2ms/step - loss: 19.7771 - mae: 3.2377: 0s - loss: 2\n",
      "Epoch 97/100\n",
      "404/404 [==============================] - 1s 2ms/step - loss: 14.4505 - mae: 2.8453\n",
      "Epoch 98/100\n",
      "404/404 [==============================] - 1s 2ms/step - loss: 16.5209 - mae: 3.0648\n",
      "Epoch 99/100\n",
      "404/404 [==============================] - 1s 2ms/step - loss: 14.9740 - mae: 2.7928\n",
      "Epoch 100/100\n",
      "404/404 [==============================] - 1s 2ms/step - loss: 14.7751 - mae: 2.7988\n"
     ]
    }
   ],
   "source": [
    "model_history = model.fit(x = train_x , y = train_y , epochs = 100 , batch_size = 1 , verbose=1)"
   ]
  },
  {
   "cell_type": "code",
   "execution_count": 38,
   "id": "049e7301",
   "metadata": {},
   "outputs": [
    {
     "data": {
      "text/plain": [
       "array([0.02675675, 0.        , 0.02677953, 0.        , 0.0010046 ,\n",
       "       0.00951931, 0.14795322, 0.0027145 , 0.03550877, 0.98536841,\n",
       "       0.02988655, 0.04031725, 0.04298041])"
      ]
     },
     "execution_count": 38,
     "metadata": {},
     "output_type": "execute_result"
    }
   ],
   "source": [
    "test_x[0]"
   ]
  },
  {
   "cell_type": "code",
   "execution_count": 39,
   "id": "222aa72d",
   "metadata": {},
   "outputs": [
    {
     "data": {
      "text/plain": [
       "7.2"
      ]
     },
     "execution_count": 39,
     "metadata": {},
     "output_type": "execute_result"
    }
   ],
   "source": [
    "test_y[0]"
   ]
  },
  {
   "cell_type": "code",
   "execution_count": 40,
   "id": "544603c5",
   "metadata": {},
   "outputs": [
    {
     "name": "stdout",
     "output_type": "stream",
     "text": [
      "Actual Output:- 7.2\n",
      "Predicted Output:-  9.983112\n"
     ]
    }
   ],
   "source": [
    "test_input = [[0.02675675, 0., 0.02677953, 0. , 0.0010046 ,0.00951931, 0.14795322, 0.0027145 , 0.03550877, 0.98536841,0.02988655, 0.04031725, 0.04298041]]\n",
    "print(\"Actual Output:- 7.2\")\n",
    "print(\"Predicted Output:- \",model.predict(test_input)[0][0])"
   ]
  },
  {
   "cell_type": "code",
   "execution_count": 42,
   "id": "10639fd6",
   "metadata": {},
   "outputs": [
    {
     "name": "stdout",
     "output_type": "stream",
     "text": [
      "dict_keys(['loss', 'mae'])\n"
     ]
    }
   ],
   "source": [
    "print(model_history.history.keys())"
   ]
  },
  {
   "cell_type": "code",
   "execution_count": 46,
   "id": "5c96b33e",
   "metadata": {},
   "outputs": [
    {
     "name": "stdout",
     "output_type": "stream",
     "text": [
      "dict_keys(['loss', 'mae'])\n"
     ]
    },
    {
     "data": {
      "image/png": "[encoded data removed]",
      "text/plain": [
       "<Figure size 432x288 with 1 Axes>"
      ]
     },
     "metadata": {
      "needs_background": "light"
     },
     "output_type": "display_data"
    }
   ],
   "source": [
    "# list all data in history\n",
    "\n",
    "print(model_history.history.keys())\n",
    "# summarize history for mse\n",
    "plt.plot(model_history.history['mae'])\n",
    "#plt.plot(np.array())\n",
    "plt.title('model mse',fontsize=30)\n",
    "plt.ylabel('mse',fontsize=20)\n",
    "plt.xlabel('Epoch',fontsize=20)\n",
    "plt.legend(['train'], loc='upper left')\n",
    "plt.show()"
   ]
  },
  {
   "cell_type": "code",
   "execution_count": 47,
   "id": "4b844ac7",
   "metadata": {},
   "outputs": [
    {
     "data": {
      "image/png": "[encoded data removed]",
      "text/plain": [
       "<Figure size 432x288 with 1 Axes>"
      ]
     },
     "metadata": {
      "needs_background": "light"
     },
     "output_type": "display_data"
    }
   ],
   "source": [
    "# summarize history for loss\n",
    "plt.plot(model_history.history['loss'])\n",
    "plt.title('model loss',fontsize=30)\n",
    "plt.ylabel('loss',fontsize=20)\n",
    "plt.xlabel('epoch',fontsize=20)\n",
    "plt.legend(['train'], loc='upper left')\n",
    "plt.show()\n"
   ]
  },
  {
   "cell_type": "code",
   "execution_count": null,
   "id": "285e33c1",
   "metadata": {},
   "outputs": [],
   "source": []
  }
 ],
 "metadata": {
  "kernelspec": {
   "display_name": "Python 3",
   "language": "python",
   "name": "python3"
  },
  "language_info": {
   "codemirror_mode": {
    "name": "ipython",
    "version": 3
   },
   "file_extension": ".py",
   "mimetype": "text/x-python",
   "name": "python",
   "nbconvert_exporter": "python",
   "pygments_lexer": "ipython3",
   "version": "3.6.13"
  }
 },
 "nbformat": 4,
 "nbformat_minor": 5
}
